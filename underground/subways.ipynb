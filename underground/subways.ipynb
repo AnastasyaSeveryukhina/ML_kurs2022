{
 "cells": [
  {
   "cell_type": "code",
   "execution_count": 1,
   "metadata": {},
   "outputs": [],
   "source": [
    "import pandas as pd"
   ]
  },
  {
   "cell_type": "code",
   "execution_count": 2,
   "metadata": {},
   "outputs": [],
   "source": [
    "cols = ['route_id', 'route_num',\n",
    "       'start_station_id', 'start_station_nm', \n",
    "       'start_line_id','route_dur',\n",
    "       'optimal_route_delta']\n",
    "data = pd.read_csv('data/subway.csv', usecols=cols)"
   ]
  },
  {
   "cell_type": "code",
   "execution_count": 3,
   "metadata": {},
   "outputs": [],
   "source": [
    "data = data[data.optimal_route_delta == 0]"
   ]
  },
  {
   "cell_type": "code",
   "execution_count": 4,
   "metadata": {},
   "outputs": [
    {
     "data": {
      "text/plain": [
       "(125588, 7)"
      ]
     },
     "execution_count": 4,
     "metadata": {},
     "output_type": "execute_result"
    }
   ],
   "source": [
    "data.shape"
   ]
  },
  {
   "cell_type": "code",
   "execution_count": 5,
   "metadata": {},
   "outputs": [
    {
     "data": {
      "text/html": [
       "<div>\n",
       "<style scoped>\n",
       "    .dataframe tbody tr th:only-of-type {\n",
       "        vertical-align: middle;\n",
       "    }\n",
       "\n",
       "    .dataframe tbody tr th {\n",
       "        vertical-align: top;\n",
       "    }\n",
       "\n",
       "    .dataframe thead th {\n",
       "        text-align: right;\n",
       "    }\n",
       "</style>\n",
       "<table border=\"1\" class=\"dataframe\">\n",
       "  <thead>\n",
       "    <tr style=\"text-align: right;\">\n",
       "      <th></th>\n",
       "      <th>route_id</th>\n",
       "      <th>route_num</th>\n",
       "      <th>start_station_id</th>\n",
       "      <th>start_station_nm</th>\n",
       "      <th>start_line_id</th>\n",
       "      <th>route_dur</th>\n",
       "      <th>optimal_route_delta</th>\n",
       "    </tr>\n",
       "  </thead>\n",
       "  <tbody>\n",
       "    <tr>\n",
       "      <th>1</th>\n",
       "      <td>10001_7018</td>\n",
       "      <td>1</td>\n",
       "      <td>10001</td>\n",
       "      <td>Борисово</td>\n",
       "      <td>10</td>\n",
       "      <td>56.01</td>\n",
       "      <td>0.0</td>\n",
       "    </tr>\n",
       "    <tr>\n",
       "      <th>30</th>\n",
       "      <td>10002_10013</td>\n",
       "      <td>1</td>\n",
       "      <td>10002</td>\n",
       "      <td>Братиславская</td>\n",
       "      <td>10</td>\n",
       "      <td>1.75</td>\n",
       "      <td>0.0</td>\n",
       "    </tr>\n",
       "    <tr>\n",
       "      <th>35</th>\n",
       "      <td>10002_2024</td>\n",
       "      <td>1</td>\n",
       "      <td>10002</td>\n",
       "      <td>Братиславская</td>\n",
       "      <td>10</td>\n",
       "      <td>53.28</td>\n",
       "      <td>0.0</td>\n",
       "    </tr>\n",
       "    <tr>\n",
       "      <th>107</th>\n",
       "      <td>10003_1001018</td>\n",
       "      <td>1</td>\n",
       "      <td>10003</td>\n",
       "      <td>Бутырская</td>\n",
       "      <td>10</td>\n",
       "      <td>37.68</td>\n",
       "      <td>0.0</td>\n",
       "    </tr>\n",
       "    <tr>\n",
       "      <th>124</th>\n",
       "      <td>10003_11021</td>\n",
       "      <td>1</td>\n",
       "      <td>10003</td>\n",
       "      <td>Бутырская</td>\n",
       "      <td>10</td>\n",
       "      <td>32.59</td>\n",
       "      <td>0.0</td>\n",
       "    </tr>\n",
       "  </tbody>\n",
       "</table>\n",
       "</div>"
      ],
      "text/plain": [
       "          route_id  route_num  start_station_id start_station_nm  \\\n",
       "1       10001_7018          1             10001         Борисово   \n",
       "30     10002_10013          1             10002    Братиславская   \n",
       "35      10002_2024          1             10002    Братиславская   \n",
       "107  10003_1001018          1             10003        Бутырская   \n",
       "124    10003_11021          1             10003        Бутырская   \n",
       "\n",
       "     start_line_id  route_dur  optimal_route_delta  \n",
       "1               10      56.01                  0.0  \n",
       "30              10       1.75                  0.0  \n",
       "35              10      53.28                  0.0  \n",
       "107             10      37.68                  0.0  \n",
       "124             10      32.59                  0.0  "
      ]
     },
     "execution_count": 5,
     "metadata": {},
     "output_type": "execute_result"
    }
   ],
   "source": [
    "data.head()"
   ]
  },
  {
   "cell_type": "code",
   "execution_count": 6,
   "metadata": {},
   "outputs": [
    {
     "data": {
      "text/html": [
       "<div>\n",
       "<style scoped>\n",
       "    .dataframe tbody tr th:only-of-type {\n",
       "        vertical-align: middle;\n",
       "    }\n",
       "\n",
       "    .dataframe tbody tr th {\n",
       "        vertical-align: top;\n",
       "    }\n",
       "\n",
       "    .dataframe thead th {\n",
       "        text-align: right;\n",
       "    }\n",
       "</style>\n",
       "<table border=\"1\" class=\"dataframe\">\n",
       "  <thead>\n",
       "    <tr style=\"text-align: right;\">\n",
       "      <th></th>\n",
       "      <th>start_station_id</th>\n",
       "      <th>route_dur</th>\n",
       "    </tr>\n",
       "  </thead>\n",
       "  <tbody>\n",
       "    <tr>\n",
       "      <th>0</th>\n",
       "      <td>1001</td>\n",
       "      <td>24.790</td>\n",
       "    </tr>\n",
       "    <tr>\n",
       "      <th>1</th>\n",
       "      <td>1002</td>\n",
       "      <td>36.190</td>\n",
       "    </tr>\n",
       "    <tr>\n",
       "      <th>2</th>\n",
       "      <td>1003</td>\n",
       "      <td>30.090</td>\n",
       "    </tr>\n",
       "    <tr>\n",
       "      <th>3</th>\n",
       "      <td>1004</td>\n",
       "      <td>27.255</td>\n",
       "    </tr>\n",
       "    <tr>\n",
       "      <th>4</th>\n",
       "      <td>1005</td>\n",
       "      <td>28.760</td>\n",
       "    </tr>\n",
       "  </tbody>\n",
       "</table>\n",
       "</div>"
      ],
      "text/plain": [
       "   start_station_id  route_dur\n",
       "0              1001     24.790\n",
       "1              1002     36.190\n",
       "2              1003     30.090\n",
       "3              1004     27.255\n",
       "4              1005     28.760"
      ]
     },
     "execution_count": 6,
     "metadata": {},
     "output_type": "execute_result"
    }
   ],
   "source": [
    "data_dur = data.groupby('start_station_id')['route_dur'].median().reset_index()\n",
    "data_dur.head()"
   ]
  },
  {
   "cell_type": "code",
   "execution_count": 7,
   "metadata": {},
   "outputs": [],
   "source": [
    "data_dur.to_csv('data/duration.csv', index=False)"
   ]
  },
  {
   "cell_type": "code",
   "execution_count": null,
   "metadata": {},
   "outputs": [],
   "source": []
  }
 ],
 "metadata": {
  "kernelspec": {
   "display_name": "Python 3",
   "language": "python",
   "name": "python3"
  },
  "language_info": {
   "codemirror_mode": {
    "name": "ipython",
    "version": 3
   },
   "file_extension": ".py",
   "mimetype": "text/x-python",
   "name": "python",
   "nbconvert_exporter": "python",
   "pygments_lexer": "ipython3",
   "version": "3.7.7"
  }
 },
 "nbformat": 4,
 "nbformat_minor": 5
}
